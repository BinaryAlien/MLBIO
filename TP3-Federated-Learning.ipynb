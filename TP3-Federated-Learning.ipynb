{
  "nbformat": 4,
  "nbformat_minor": 0,
  "metadata": {
    "colab": {
      "provenance": [],
      "gpuType": "T4"
    },
    "kernelspec": {
      "name": "python3",
      "display_name": "Python 3"
    },
    "language_info": {
      "name": "python"
    },
    "accelerator": "GPU"
  },
  "cells": [
    {
      "cell_type": "markdown",
      "source": [
        "# Federal Learning\n",
        "\n",
        "`ewan.barel`"
      ],
      "metadata": {
        "id": "emVTKGg1G472"
      }
    },
    {
      "cell_type": "code",
      "execution_count": null,
      "metadata": {
        "id": "xioUYac0jlmC"
      },
      "outputs": [],
      "source": [
        "from sklearn.metrics import classification_report\n",
        "from torch.utils.data import DataLoader, Dataset, Subset\n",
        "from torchvision import transforms\n",
        "import copy\n",
        "import numpy as np\n",
        "import torch\n",
        "import torch.nn as nn\n",
        "import torch.nn.functional as F\n",
        "import torchvision\n"
      ]
    },
    {
      "cell_type": "code",
      "source": [
        "random_state = 42\n",
        "torch.manual_seed(random_state)\n",
        "torch.cuda.manual_seed(random_state)\n",
        "torch.backends.cudnn.deterministic = True\n"
      ],
      "metadata": {
        "id": "yYCQlUL2-sMN"
      },
      "execution_count": null,
      "outputs": []
    },
    {
      "cell_type": "code",
      "source": [
        "# 1. Load the MNIST dataset (or any other dataset like HAM 10000).\n",
        "\n",
        "transform = transforms.Compose([\n",
        "  transforms.ToTensor(),\n",
        "  transforms.Normalize((0.1307,), (0.3081,)),\n",
        "])\n",
        "\n",
        "dataset_train = torchvision.datasets.MNIST(\n",
        "  root=\"./data\",\n",
        "  train=True,\n",
        "  download=True,\n",
        "  transform=transform,\n",
        "  target_transform=None,\n",
        ")\n",
        "\n",
        "dataset_test = torchvision.datasets.MNIST(\n",
        "  root=\"./data\",\n",
        "  train=False,\n",
        "  transform=transform,\n",
        "  target_transform=None,\n",
        ")\n"
      ],
      "metadata": {
        "id": "uFEkhVxKO8C0"
      },
      "execution_count": null,
      "outputs": []
    },
    {
      "cell_type": "code",
      "source": [
        "# 2. Extract two subsets of 600 data points each (without intersection).\n",
        "\n",
        "def extract_subsets(dataset, subset_size=600, random_state=42):\n",
        "  gen = np.random.default_rng(random_state)\n",
        "  indices = gen.permutation(len(dataset))\n",
        "  indices = indices[:2 * subset_size]\n",
        "  subset_1 = Subset(dataset, indices[:subset_size])\n",
        "  subset_2 = Subset(dataset, indices[subset_size:])\n",
        "  return subset_1, subset_2\n",
        "\n",
        "\n",
        "subset_1, subset_2 = extract_subsets(dataset_train, subset_size=600, random_state=random_state)\n",
        "\n",
        "assert len(set(subset_1) & set(subset_2)) == 0\n",
        "assert len(subset_1) == 600 and len(subset_2) == 600\n"
      ],
      "metadata": {
        "id": "EPZKGrr1nr_1"
      },
      "execution_count": null,
      "outputs": []
    },
    {
      "cell_type": "code",
      "source": [
        "# 3. Create a simple Convolutional Neural Network (2 convolutional layers and 2 dense layers, for example).\n",
        "\n",
        "class SimpleCNN(nn.Module):\n",
        "  def __init__(self):\n",
        "    super().__init__()\n",
        "    self.conv1 = nn.Conv2d(in_channels=1, out_channels=32, kernel_size=3, padding=1)\n",
        "    self.conv2 = nn.Conv2d(in_channels=32, out_channels=64, kernel_size=3, padding=1)\n",
        "    self.pool = nn.MaxPool2d(2, 2)\n",
        "    self.fc1 = nn.Linear(64 * 7 * 7, 128)\n",
        "    self.fc2 = nn.Linear(128, 10)\n",
        "\n",
        "  def forward(self, x):\n",
        "    x = self.pool(F.relu(self.conv1(x)))\n",
        "    x = self.pool(F.relu(self.conv2(x)))\n",
        "    x = torch.flatten(x, 1)\n",
        "    x = F.relu(self.fc1(x))\n",
        "    x = self.fc2(x)\n",
        "    return x\n",
        "\n",
        "  def clone(self):\n",
        "    return copy.deepcopy(self)\n"
      ],
      "metadata": {
        "id": "774h_ExTqTqu"
      },
      "execution_count": null,
      "outputs": []
    },
    {
      "cell_type": "code",
      "source": [
        "# 4. Create a function average_model_parameters(models: iterable, average_weight): iterable that takes\n",
        "# a list of models as an argument and returns the weighted average of the parameters of each model.\n",
        "\n",
        "def average_model_parameters(models, average_weight):\n",
        "  assert len(models) == len(average_weight)\n",
        "  assert sum(average_weight) == 1.0\n",
        "  average_params = [average_weight[0] * param.data.clone() for param in models[0].parameters()]\n",
        "  for model, weight in zip(models[1:], average_weight[1:]):\n",
        "    for param_idx, param in enumerate(model.parameters()):\n",
        "      average_params[param_idx] += weight * param.data.clone()\n",
        "  return average_params\n"
      ],
      "metadata": {
        "id": "eDdrtbh3qgZ8"
      },
      "execution_count": null,
      "outputs": []
    },
    {
      "cell_type": "code",
      "source": [
        "# 5. Create a function that updates the parameters of a model from a list of values.\n",
        "\n",
        "def update_model_parameters(model, values):\n",
        "  for param, value in zip(model.parameters(), values):\n",
        "    param.data = value\n"
      ],
      "metadata": {
        "id": "rFS0Nl2Pqf_7"
      },
      "execution_count": null,
      "outputs": []
    },
    {
      "cell_type": "code",
      "source": [
        "# 6. Create a script/code/function that reproduces Algorithm 1, considering that both models are on your machine.\n",
        "\n",
        "class Client:\n",
        "  def __init__(self, dataset, batch_size=60, device=None):\n",
        "    self.dataset = dataset\n",
        "    self.batch_size = batch_size\n",
        "    self.device = device\n",
        "\n",
        "  def train(self, model, epochs=10, lr=1e-4):\n",
        "    model = model.to(self.device)\n",
        "    data_loader = DataLoader(self.dataset, batch_size=self.batch_size, shuffle=True)\n",
        "    optimizer = torch.optim.Adam(model.parameters(), lr=lr)\n",
        "    model.train()\n",
        "    for epoch in range(epochs):\n",
        "      loss_sum = 0\n",
        "      for x, y_true in data_loader:\n",
        "        x, y_true = x.to(self.device), y_true.to(self.device)\n",
        "        optimizer.zero_grad()\n",
        "        y_pred = model(x)\n",
        "        loss = F.cross_entropy(y_pred, y_true)\n",
        "        loss.backward()\n",
        "        optimizer.step()\n",
        "        loss_sum += loss.item()\n",
        "      print(f\"Epoch {epoch + 1}/{epochs}, Loss: {loss_sum / len(data_loader)}\")\n",
        "    print()\n",
        "\n",
        "\n",
        "class FederatedAveraging:\n",
        "  def __init__(self, clients, average_weight, random_state=42):\n",
        "    self.clients = clients\n",
        "    self.average_weight = average_weight\n",
        "    self.gen = np.random.default_rng(random_state)\n",
        "\n",
        "  def __call__(self, global_model_cls, C=1.0):\n",
        "    K = len(self.clients)\n",
        "    m = max(int(C * K), 1)\n",
        "    client_indices = self.gen.choice(K, m, replace=False)\n",
        "\n",
        "    client_models = [global_model_cls() for _ in range(m)]\n",
        "    for model_idx, client_idx in enumerate(client_indices):\n",
        "      self.clients[client_idx].train(client_models[model_idx], epochs=10, lr=1e-4)\n",
        "    average_params = average_model_parameters(client_models, self.average_weight)\n",
        "\n",
        "    global_model = global_model_cls()\n",
        "    update_model_parameters(global_model, average_params)\n",
        "    return global_model\n",
        "\n",
        "\n",
        "# Use an average_weight=[1/2, 1/2].\n",
        "average_weight = [1/2, 1/2]\n",
        "\n",
        "# Reuse the same setup as in the article (50 examples per local batch).\n",
        "local_batch_size = 50\n"
      ],
      "metadata": {
        "id": "iXg-BLRbrBpv"
      },
      "execution_count": null,
      "outputs": []
    },
    {
      "cell_type": "code",
      "source": [
        "# 7. Train your models without initializing the common parameters ...\n",
        "\n",
        "device = \"cuda\" if torch.cuda.is_available() else \"cpu\"\n",
        "\n",
        "client_1 = Client(subset_1, batch_size=local_batch_size, device=device)\n",
        "client_2 = Client(subset_2, batch_size=local_batch_size, device=device)\n",
        "clients = [client_1, client_2]\n",
        "\n",
        "algorithm = FederatedAveraging(clients, average_weight, random_state=random_state)\n",
        "global_model = algorithm(SimpleCNN, C=1.0)\n"
      ],
      "metadata": {
        "id": "5rZ-KjRavS9c",
        "colab": {
          "base_uri": "https://localhost:8080/"
        },
        "outputId": "85951091-fbfb-4f49-94b6-1c2927de68b6"
      },
      "execution_count": null,
      "outputs": [
        {
          "output_type": "stream",
          "name": "stdout",
          "text": [
            "Epoch 1/10, Loss: 2.260442634423574\n",
            "Epoch 2/10, Loss: 2.13232151667277\n",
            "Epoch 3/10, Loss: 1.950896253188451\n",
            "Epoch 4/10, Loss: 1.7107790509859722\n",
            "Epoch 5/10, Loss: 1.4360344807306926\n",
            "Epoch 6/10, Loss: 1.1656321982542674\n",
            "Epoch 7/10, Loss: 0.9339665820201238\n",
            "Epoch 8/10, Loss: 0.7675834347804388\n",
            "Epoch 9/10, Loss: 0.6465268582105637\n",
            "Epoch 10/10, Loss: 0.5582850947976112\n",
            "\n",
            "Epoch 1/10, Loss: 2.2641897002855935\n",
            "Epoch 2/10, Loss: 2.137272854646047\n",
            "Epoch 3/10, Loss: 1.9561141431331635\n",
            "Epoch 4/10, Loss: 1.711478481690089\n",
            "Epoch 5/10, Loss: 1.4293417235215504\n",
            "Epoch 6/10, Loss: 1.148185799519221\n",
            "Epoch 7/10, Loss: 0.9066081643104553\n",
            "Epoch 8/10, Loss: 0.7409565349419912\n",
            "Epoch 9/10, Loss: 0.6186471978823344\n",
            "Epoch 10/10, Loss: 0.5460866168141365\n",
            "\n"
          ]
        }
      ]
    },
    {
      "cell_type": "code",
      "source": [
        "# 7. ... and measure the performance on the entire dataset.\n",
        "\n",
        "def evaluate(model, dataset, target_names=None):\n",
        "  data_loader = DataLoader(dataset, batch_size=len(dataset), shuffle=False)\n",
        "  model.eval()\n",
        "  with torch.no_grad():\n",
        "    for x, y_true in data_loader:\n",
        "      y_pred = model(x)\n",
        "      loss = F.cross_entropy(y_pred, y_true)\n",
        "      print(classification_report(y_true, y_pred.argmax(dim=1), target_names=target_names, zero_division=0.0))\n",
        "      print(f\"test loss = {loss.item()}\")\n",
        "\n",
        "global_model = global_model.to(\"cpu\")\n",
        "evaluate(global_model, dataset_test)\n"
      ],
      "metadata": {
        "id": "MdhNUrqPQulf",
        "colab": {
          "base_uri": "https://localhost:8080/"
        },
        "outputId": "d62c5553-ca73-475c-ccaa-d0a270b5ea5a"
      },
      "execution_count": null,
      "outputs": [
        {
          "output_type": "stream",
          "name": "stdout",
          "text": [
            "              precision    recall  f1-score   support\n",
            "\n",
            "           0       0.71      0.97      0.82       980\n",
            "           1       0.55      0.99      0.71      1135\n",
            "           2       0.88      0.75      0.81      1032\n",
            "           3       0.88      0.63      0.73      1010\n",
            "           4       0.55      0.88      0.68       982\n",
            "           5       0.63      0.80      0.71       892\n",
            "           6       0.97      0.71      0.82       958\n",
            "           7       0.57      0.89      0.70      1028\n",
            "           8       0.00      0.00      0.00       974\n",
            "           9       0.00      0.00      0.00      1009\n",
            "\n",
            "    accuracy                           0.67     10000\n",
            "   macro avg       0.58      0.66      0.60     10000\n",
            "weighted avg       0.57      0.67      0.60     10000\n",
            "\n",
            "test loss = 1.8237099647521973\n"
          ]
        }
      ]
    },
    {
      "cell_type": "code",
      "source": [
        "# 8. Train your models with the initialization of common parameters and verify that the performance is better.\n",
        "\n",
        "class FederatedAveraging:\n",
        "  def __init__(self, clients, average_weight, random_state=42):\n",
        "    self.clients = clients\n",
        "    self.average_weight = average_weight\n",
        "    self.gen = np.random.default_rng(random_state)\n",
        "\n",
        "  def __call__(self, global_model, C=1.0):\n",
        "    K = len(self.clients)\n",
        "    m = max(int(C * K), 1)\n",
        "    client_indices = self.gen.choice(K, m, replace=False)\n",
        "\n",
        "    client_models = [global_model.clone() for _ in range(m)]\n",
        "    for model_idx, client_idx in enumerate(client_indices):\n",
        "      self.clients[client_idx].train(client_models[model_idx], epochs=10, lr=1e-4)\n",
        "    average_params = average_model_parameters(client_models, self.average_weight)\n",
        "\n",
        "    update_model_parameters(global_model, average_params)\n",
        "\n",
        "\n",
        "algorithm = FederatedAveraging(clients, average_weight, random_state=random_state)\n",
        "global_model = SimpleCNN()\n",
        "\n",
        "algorithm(global_model, C=1.0)\n",
        "\n",
        "global_model = global_model.to(\"cpu\")\n",
        "evaluate(global_model, dataset_test)\n"
      ],
      "metadata": {
        "id": "W3VNqj9YHFOP",
        "colab": {
          "base_uri": "https://localhost:8080/"
        },
        "outputId": "ab8a985f-b061-432b-ba4d-be9feba9538d"
      },
      "execution_count": null,
      "outputs": [
        {
          "output_type": "stream",
          "name": "stdout",
          "text": [
            "Epoch 1/10, Loss: 2.242070992787679\n",
            "Epoch 2/10, Loss: 2.050161898136139\n",
            "Epoch 3/10, Loss: 1.8017733693122864\n",
            "Epoch 4/10, Loss: 1.495373805363973\n",
            "Epoch 5/10, Loss: 1.1988696853319805\n",
            "Epoch 6/10, Loss: 0.9511296500762304\n",
            "Epoch 7/10, Loss: 0.7785952091217041\n",
            "Epoch 8/10, Loss: 0.6539307683706284\n",
            "Epoch 9/10, Loss: 0.5606670354803404\n",
            "Epoch 10/10, Loss: 0.49569424490133923\n",
            "\n",
            "Epoch 1/10, Loss: 2.2349798480669656\n",
            "Epoch 2/10, Loss: 2.0342212915420532\n",
            "Epoch 3/10, Loss: 1.7736465533574421\n",
            "Epoch 4/10, Loss: 1.460756778717041\n",
            "Epoch 5/10, Loss: 1.1492241472005844\n",
            "Epoch 6/10, Loss: 0.8984330246845881\n",
            "Epoch 7/10, Loss: 0.7192040284474691\n",
            "Epoch 8/10, Loss: 0.5979145144422849\n",
            "Epoch 9/10, Loss: 0.5090892165899277\n",
            "Epoch 10/10, Loss: 0.45369911193847656\n",
            "\n",
            "              precision    recall  f1-score   support\n",
            "\n",
            "           0       0.88      0.96      0.92       980\n",
            "           1       0.92      0.96      0.94      1135\n",
            "           2       0.91      0.85      0.88      1032\n",
            "           3       0.76      0.91      0.83      1010\n",
            "           4       0.82      0.87      0.85       982\n",
            "           5       0.92      0.70      0.79       892\n",
            "           6       0.92      0.85      0.89       958\n",
            "           7       0.87      0.86      0.87      1028\n",
            "           8       0.83      0.82      0.83       974\n",
            "           9       0.81      0.79      0.80      1009\n",
            "\n",
            "    accuracy                           0.86     10000\n",
            "   macro avg       0.87      0.86      0.86     10000\n",
            "weighted avg       0.87      0.86      0.86     10000\n",
            "\n",
            "test loss = 0.5205768346786499\n"
          ]
        }
      ]
    },
    {
      "cell_type": "code",
      "source": [
        "# 9. Reduce the number of data points in each sub-batch. What is the minimum number of data points\n",
        "# necessary for the final model to have acceptable performance?\n",
        "\n",
        "def evaluate_subset_size(dataset_train, dataset_test, model_cls, subset_size, random_state=42, target_names=None):\n",
        "  subset_1, subset_2 = extract_subsets(dataset_train, subset_size=subset_size, random_state=random_state)\n",
        "\n",
        "  assert len(set(subset_1) & set(subset_2)) == 0\n",
        "  assert len(subset_1) == subset_size and len(subset_2) == subset_size\n",
        "\n",
        "  average_weight = [1/2, 1/2]\n",
        "  local_batch_size = 50\n",
        "\n",
        "  device = \"cuda\" if torch.cuda.is_available() else \"cpu\"\n",
        "\n",
        "  client_1 = Client(subset_1, batch_size=local_batch_size, device=device)\n",
        "  client_2 = Client(subset_2, batch_size=local_batch_size, device=device)\n",
        "  clients = [client_1, client_2]\n",
        "\n",
        "  global_model = model_cls()\n",
        "\n",
        "  algorithm = FederatedAveraging(clients, average_weight, random_state=random_state)\n",
        "  algorithm(global_model, C=1.0)\n",
        "\n",
        "  global_model = global_model.to(\"cpu\")\n",
        "\n",
        "  evaluate(global_model, dataset_test, target_names=target_names)\n"
      ],
      "metadata": {
        "id": "1wAd3K4HrCUk"
      },
      "execution_count": null,
      "outputs": []
    },
    {
      "cell_type": "code",
      "source": [
        "# Subset size: 300\n",
        "evaluate_subset_size(dataset_train, dataset_test, SimpleCNN, subset_size=300, random_state=random_state)"
      ],
      "metadata": {
        "id": "sJTDCwSLGIoE",
        "colab": {
          "base_uri": "https://localhost:8080/"
        },
        "outputId": "a509a76f-613a-41e1-d529-7e11277b1316"
      },
      "execution_count": null,
      "outputs": [
        {
          "output_type": "stream",
          "name": "stdout",
          "text": [
            "Epoch 1/10, Loss: 2.2740848859151206\n",
            "Epoch 2/10, Loss: 2.199165423711141\n",
            "Epoch 3/10, Loss: 2.1264237562815347\n",
            "Epoch 4/10, Loss: 2.0396344661712646\n",
            "Epoch 5/10, Loss: 1.9353689352671306\n",
            "Epoch 6/10, Loss: 1.8142779469490051\n",
            "Epoch 7/10, Loss: 1.6792110006014507\n",
            "Epoch 8/10, Loss: 1.5358028809229534\n",
            "Epoch 9/10, Loss: 1.3876149257024128\n",
            "Epoch 10/10, Loss: 1.24173508087794\n",
            "\n",
            "Epoch 1/10, Loss: 2.2814810276031494\n",
            "Epoch 2/10, Loss: 2.2043351332346597\n",
            "Epoch 3/10, Loss: 2.1314351161321006\n",
            "Epoch 4/10, Loss: 2.0367972453435264\n",
            "Epoch 5/10, Loss: 1.924130916595459\n",
            "Epoch 6/10, Loss: 1.7990633249282837\n",
            "Epoch 7/10, Loss: 1.6503669222195942\n",
            "Epoch 8/10, Loss: 1.4985593756039937\n",
            "Epoch 9/10, Loss: 1.3339777787526448\n",
            "Epoch 10/10, Loss: 1.181776722272237\n",
            "\n",
            "              precision    recall  f1-score   support\n",
            "\n",
            "           0       0.89      0.88      0.88       980\n",
            "           1       0.77      0.97      0.86      1135\n",
            "           2       0.91      0.77      0.84      1032\n",
            "           3       0.57      0.89      0.70      1010\n",
            "           4       0.60      0.89      0.72       982\n",
            "           5       0.97      0.31      0.47       892\n",
            "           6       0.84      0.91      0.87       958\n",
            "           7       0.82      0.85      0.84      1028\n",
            "           8       0.58      0.66      0.61       974\n",
            "           9       0.95      0.21      0.34      1009\n",
            "\n",
            "    accuracy                           0.74     10000\n",
            "   macro avg       0.79      0.73      0.71     10000\n",
            "weighted avg       0.79      0.74      0.72     10000\n",
            "\n",
            "test loss = 1.2293223142623901\n"
          ]
        }
      ]
    },
    {
      "cell_type": "code",
      "source": [
        "# Subset size: 225\n",
        "evaluate_subset_size(dataset_train, dataset_test, SimpleCNN, subset_size=225, random_state=random_state)"
      ],
      "metadata": {
        "id": "qgvf05xlHyrX",
        "colab": {
          "base_uri": "https://localhost:8080/"
        },
        "outputId": "0ca012ed-91c9-4b54-f252-95cca621cf74"
      },
      "execution_count": null,
      "outputs": [
        {
          "output_type": "stream",
          "name": "stdout",
          "text": [
            "Epoch 1/10, Loss: 2.299188566207886\n",
            "Epoch 2/10, Loss: 2.2145005226135255\n",
            "Epoch 3/10, Loss: 2.143722724914551\n",
            "Epoch 4/10, Loss: 2.064178490638733\n",
            "Epoch 5/10, Loss: 1.9833114862442016\n",
            "Epoch 6/10, Loss: 1.885623860359192\n",
            "Epoch 7/10, Loss: 1.7870988607406617\n",
            "Epoch 8/10, Loss: 1.6532409906387329\n",
            "Epoch 9/10, Loss: 1.5299564838409423\n",
            "Epoch 10/10, Loss: 1.3875293731689453\n",
            "\n",
            "Epoch 1/10, Loss: 2.2792191028594972\n",
            "Epoch 2/10, Loss: 2.203948640823364\n",
            "Epoch 3/10, Loss: 2.118944215774536\n",
            "Epoch 4/10, Loss: 2.0378366470336915\n",
            "Epoch 5/10, Loss: 1.9357996225357055\n",
            "Epoch 6/10, Loss: 1.8372415542602538\n",
            "Epoch 7/10, Loss: 1.7240669965744018\n",
            "Epoch 8/10, Loss: 1.572980785369873\n",
            "Epoch 9/10, Loss: 1.4463969707489013\n",
            "Epoch 10/10, Loss: 1.34232439994812\n",
            "\n",
            "              precision    recall  f1-score   support\n",
            "\n",
            "           0       0.80      0.94      0.86       980\n",
            "           1       0.88      0.92      0.90      1135\n",
            "           2       0.88      0.82      0.85      1032\n",
            "           3       0.58      0.87      0.69      1010\n",
            "           4       0.94      0.63      0.75       982\n",
            "           5       1.00      0.01      0.02       892\n",
            "           6       0.74      0.89      0.81       958\n",
            "           7       0.81      0.84      0.82      1028\n",
            "           8       0.47      0.75      0.58       974\n",
            "           9       0.85      0.64      0.73      1009\n",
            "\n",
            "    accuracy                           0.74     10000\n",
            "   macro avg       0.80      0.73      0.70     10000\n",
            "weighted avg       0.79      0.74      0.71     10000\n",
            "\n",
            "test loss = 1.4038324356079102\n"
          ]
        }
      ]
    },
    {
      "cell_type": "code",
      "source": [
        "# Subset size: 150\n",
        "evaluate_subset_size(dataset_train, dataset_test, SimpleCNN, subset_size=150, random_state=random_state)"
      ],
      "metadata": {
        "id": "xlamF-yqGNOE",
        "colab": {
          "base_uri": "https://localhost:8080/"
        },
        "outputId": "d3e0c04a-7409-4a13-80a1-08b5d5782854"
      },
      "execution_count": null,
      "outputs": [
        {
          "output_type": "stream",
          "name": "stdout",
          "text": [
            "Epoch 1/10, Loss: 2.287604649861654\n",
            "Epoch 2/10, Loss: 2.2228218714396157\n",
            "Epoch 3/10, Loss: 2.173189163208008\n",
            "Epoch 4/10, Loss: 2.121098279953003\n",
            "Epoch 5/10, Loss: 2.066273053487142\n",
            "Epoch 6/10, Loss: 2.0017035404841104\n",
            "Epoch 7/10, Loss: 1.9335798422495525\n",
            "Epoch 8/10, Loss: 1.8602807521820068\n",
            "Epoch 9/10, Loss: 1.783068060874939\n",
            "Epoch 10/10, Loss: 1.7008123397827148\n",
            "\n",
            "Epoch 1/10, Loss: 2.288973013559977\n",
            "Epoch 2/10, Loss: 2.2297961711883545\n",
            "Epoch 3/10, Loss: 2.176190217336019\n",
            "Epoch 4/10, Loss: 2.127875645955404\n",
            "Epoch 5/10, Loss: 2.0736462275187173\n",
            "Epoch 6/10, Loss: 2.0125320752461753\n",
            "Epoch 7/10, Loss: 1.946573297182719\n",
            "Epoch 8/10, Loss: 1.8765028317769368\n",
            "Epoch 9/10, Loss: 1.7989062070846558\n",
            "Epoch 10/10, Loss: 1.7127409378687541\n",
            "\n",
            "              precision    recall  f1-score   support\n",
            "\n",
            "           0       0.45      0.98      0.62       980\n",
            "           1       0.93      0.87      0.90      1135\n",
            "           2       1.00      0.25      0.40      1032\n",
            "           3       0.47      0.89      0.61      1010\n",
            "           4       0.81      0.67      0.74       982\n",
            "           5       0.00      0.00      0.00       892\n",
            "           6       0.91      0.62      0.74       958\n",
            "           7       0.55      0.91      0.69      1028\n",
            "           8       0.50      0.71      0.59       974\n",
            "           9       0.87      0.06      0.11      1009\n",
            "\n",
            "    accuracy                           0.60     10000\n",
            "   macro avg       0.65      0.60      0.54     10000\n",
            "weighted avg       0.66      0.60      0.55     10000\n",
            "\n",
            "test loss = 1.7820357084274292\n"
          ]
        }
      ]
    },
    {
      "cell_type": "code",
      "source": [
        "# Subset size: 75\n",
        "evaluate_subset_size(dataset_train, dataset_test, SimpleCNN, subset_size=75, random_state=random_state)"
      ],
      "metadata": {
        "id": "pa6fbbkXHoNU",
        "colab": {
          "base_uri": "https://localhost:8080/"
        },
        "outputId": "4dfb61e0-25d3-4d31-8cbd-845d9f202163"
      },
      "execution_count": null,
      "outputs": [
        {
          "output_type": "stream",
          "name": "stdout",
          "text": [
            "Epoch 1/10, Loss: 2.2963664531707764\n",
            "Epoch 2/10, Loss: 2.2229732275009155\n",
            "Epoch 3/10, Loss: 2.184417486190796\n",
            "Epoch 4/10, Loss: 2.121456503868103\n",
            "Epoch 5/10, Loss: 2.0725066661834717\n",
            "Epoch 6/10, Loss: 2.01925790309906\n",
            "Epoch 7/10, Loss: 1.990318477153778\n",
            "Epoch 8/10, Loss: 1.9431979060173035\n",
            "Epoch 9/10, Loss: 1.8549925684928894\n",
            "Epoch 10/10, Loss: 1.809952735900879\n",
            "\n",
            "Epoch 1/10, Loss: 2.319611430168152\n",
            "Epoch 2/10, Loss: 2.2495293617248535\n",
            "Epoch 3/10, Loss: 2.194462776184082\n",
            "Epoch 4/10, Loss: 2.171608567237854\n",
            "Epoch 5/10, Loss: 2.113717198371887\n",
            "Epoch 6/10, Loss: 2.1115788221359253\n",
            "Epoch 7/10, Loss: 2.0749809741973877\n",
            "Epoch 8/10, Loss: 1.9912885427474976\n",
            "Epoch 9/10, Loss: 1.9675783514976501\n",
            "Epoch 10/10, Loss: 1.9404996037483215\n",
            "\n",
            "              precision    recall  f1-score   support\n",
            "\n",
            "           0       0.28      0.98      0.43       980\n",
            "           1       1.00      0.56      0.71      1135\n",
            "           2       0.95      0.33      0.49      1032\n",
            "           3       0.36      0.70      0.48      1010\n",
            "           4       0.82      0.61      0.70       982\n",
            "           5       0.00      0.00      0.00       892\n",
            "           6       1.00      0.05      0.10       958\n",
            "           7       0.97      0.41      0.57      1028\n",
            "           8       0.28      0.69      0.40       974\n",
            "           9       0.00      0.00      0.00      1009\n",
            "\n",
            "    accuracy                           0.44     10000\n",
            "   macro avg       0.57      0.43      0.39     10000\n",
            "weighted avg       0.58      0.44      0.40     10000\n",
            "\n",
            "test loss = 2.0725042819976807\n"
          ]
        }
      ]
    },
    {
      "cell_type": "code",
      "source": [
        "# Repeat the study on CIFAR-10."
      ],
      "metadata": {
        "id": "JLYa4YsQQBLC"
      },
      "execution_count": null,
      "outputs": []
    },
    {
      "cell_type": "code",
      "source": [
        "# Load the CIFAR-10 dataset.\n",
        "\n",
        "transform = transforms.Compose([\n",
        "  transforms.ToTensor(),\n",
        "  transforms.Normalize((0.4914, 0.4822, 0.4465), (0.2023, 0.1994, 0.2010)),\n",
        "])\n",
        "\n",
        "dataset_train = torchvision.datasets.CIFAR10(\n",
        "  root=\"./data\",\n",
        "  train=True,\n",
        "  download=True,\n",
        "  transform=transform,\n",
        "  target_transform=None,\n",
        ")\n",
        "\n",
        "dataset_test = torchvision.datasets.CIFAR10(\n",
        "  root=\"./data\",\n",
        "  train=False,\n",
        "  transform=transform,\n",
        "  target_transform=None,\n",
        ")\n",
        "\n",
        "target_names = [\n",
        "  \"airplane\",\n",
        "  \"automobile\",\n",
        "  \"bird\",\n",
        "  \"cat\",\n",
        "  \"deer\",\n",
        "  \"dog\",\n",
        "  \"frog\",\n",
        "  \"horse\",\n",
        "  \"ship\",\n",
        "  \"truck\",\n",
        "]\n"
      ],
      "metadata": {
        "id": "CN3UhM_eIc00",
        "colab": {
          "base_uri": "https://localhost:8080/"
        },
        "outputId": "5463593e-c8c2-47da-d2fd-9e1cecb2bf0f"
      },
      "execution_count": null,
      "outputs": [
        {
          "output_type": "stream",
          "name": "stdout",
          "text": [
            "Files already downloaded and verified\n"
          ]
        }
      ]
    },
    {
      "cell_type": "code",
      "source": [
        "# Create a simple Convolutional Neural Network.\n",
        "\n",
        "class SimpleCNN(nn.Module):\n",
        "  def __init__(self):\n",
        "    super().__init__()\n",
        "    self.conv1 = nn.Conv2d(in_channels=3, out_channels=32, kernel_size=3, padding=1)\n",
        "    self.conv2 = nn.Conv2d(in_channels=32, out_channels=64, kernel_size=3, padding=1)\n",
        "    self.pool = nn.MaxPool2d(2, 2)\n",
        "    self.fc1 = nn.Linear(64 * 8 * 8, 256)\n",
        "    self.fc2 = nn.Linear(256, 10)\n",
        "\n",
        "  def forward(self, x):\n",
        "    x = self.pool(F.relu(self.conv1(x)))\n",
        "    x = self.pool(F.relu(self.conv2(x)))\n",
        "    x = torch.flatten(x, 1)\n",
        "    x = F.relu(self.fc1(x))\n",
        "    x = self.fc2(x)\n",
        "    return x\n",
        "\n",
        "  def clone(self):\n",
        "    return copy.deepcopy(self)\n"
      ],
      "metadata": {
        "id": "NLaQQ__6U-JI"
      },
      "execution_count": null,
      "outputs": []
    },
    {
      "cell_type": "code",
      "source": [
        "# Subset size: 600\n",
        "evaluate_subset_size(\n",
        "  dataset_train,\n",
        "  dataset_test,\n",
        "  SimpleCNN,\n",
        "  subset_size=600,\n",
        "  random_state=random_state,\n",
        "  target_names=target_names,\n",
        ")\n"
      ],
      "metadata": {
        "id": "3OSbhlHxJGbm",
        "colab": {
          "base_uri": "https://localhost:8080/"
        },
        "outputId": "6df76738-3b17-4fc9-e790-97d5f7673bac"
      },
      "execution_count": null,
      "outputs": [
        {
          "output_type": "stream",
          "name": "stdout",
          "text": [
            "Epoch 1/10, Loss: 2.2762206196784973\n",
            "Epoch 2/10, Loss: 2.164184014002482\n",
            "Epoch 3/10, Loss: 2.0451194445292153\n",
            "Epoch 4/10, Loss: 1.923590620358785\n",
            "Epoch 5/10, Loss: 1.825722297032674\n",
            "Epoch 6/10, Loss: 1.7423799733320873\n",
            "Epoch 7/10, Loss: 1.669473260641098\n",
            "Epoch 8/10, Loss: 1.5901649991671245\n",
            "Epoch 9/10, Loss: 1.5202670494715373\n",
            "Epoch 10/10, Loss: 1.4884677628676097\n",
            "\n",
            "Epoch 1/10, Loss: 2.275067925453186\n",
            "Epoch 2/10, Loss: 2.161841571331024\n",
            "Epoch 3/10, Loss: 2.036328057448069\n",
            "Epoch 4/10, Loss: 1.9159430960814159\n",
            "Epoch 5/10, Loss: 1.7957518100738525\n",
            "Epoch 6/10, Loss: 1.7069916625817616\n",
            "Epoch 7/10, Loss: 1.6355561117331188\n",
            "Epoch 8/10, Loss: 1.5722739199797313\n",
            "Epoch 9/10, Loss: 1.5193351010481517\n",
            "Epoch 10/10, Loss: 1.4375033378601074\n",
            "\n",
            "              precision    recall  f1-score   support\n",
            "\n",
            "    airplane       0.48      0.44      0.46      1000\n",
            "  automobile       0.35      0.54      0.42      1000\n",
            "        bird       0.33      0.09      0.14      1000\n",
            "         cat       0.27      0.16      0.20      1000\n",
            "        deer       0.45      0.26      0.33      1000\n",
            "         dog       0.33      0.38      0.35      1000\n",
            "        frog       0.36      0.58      0.45      1000\n",
            "       horse       0.43      0.34      0.38      1000\n",
            "        ship       0.44      0.56      0.49      1000\n",
            "       truck       0.36      0.47      0.41      1000\n",
            "\n",
            "    accuracy                           0.38     10000\n",
            "   macro avg       0.38      0.38      0.36     10000\n",
            "weighted avg       0.38      0.38      0.36     10000\n",
            "\n",
            "test loss = 1.7698280811309814\n"
          ]
        }
      ]
    },
    {
      "cell_type": "code",
      "source": [
        "# Subset size: 1200\n",
        "evaluate_subset_size(\n",
        "  dataset_train,\n",
        "  dataset_test,\n",
        "  SimpleCNN,\n",
        "  subset_size=1200,\n",
        "  random_state=random_state,\n",
        "  target_names=target_names,\n",
        ")\n"
      ],
      "metadata": {
        "colab": {
          "base_uri": "https://localhost:8080/"
        },
        "id": "ozB_UnSZVOVL",
        "outputId": "614626f6-238a-4fcc-b730-57a3a5159e07"
      },
      "execution_count": null,
      "outputs": [
        {
          "output_type": "stream",
          "name": "stdout",
          "text": [
            "Epoch 1/10, Loss: 2.2445366283257804\n",
            "Epoch 2/10, Loss: 2.0492428988218307\n",
            "Epoch 3/10, Loss: 1.8842016359170277\n",
            "Epoch 4/10, Loss: 1.78955739736557\n",
            "Epoch 5/10, Loss: 1.6870730568965275\n",
            "Epoch 6/10, Loss: 1.622031773130099\n",
            "Epoch 7/10, Loss: 1.550882250070572\n",
            "Epoch 8/10, Loss: 1.5009870181481044\n",
            "Epoch 9/10, Loss: 1.4624215215444565\n",
            "Epoch 10/10, Loss: 1.4100553294022877\n",
            "\n",
            "Epoch 1/10, Loss: 2.24455855290095\n",
            "Epoch 2/10, Loss: 2.077046404282252\n",
            "Epoch 3/10, Loss: 1.917370542883873\n",
            "Epoch 4/10, Loss: 1.8110644221305847\n",
            "Epoch 5/10, Loss: 1.7192897995313008\n",
            "Epoch 6/10, Loss: 1.6673217912515004\n",
            "Epoch 7/10, Loss: 1.5926808963219325\n",
            "Epoch 8/10, Loss: 1.5369653056065242\n",
            "Epoch 9/10, Loss: 1.4779817312955856\n",
            "Epoch 10/10, Loss: 1.4092650959889095\n",
            "\n",
            "              precision    recall  f1-score   support\n",
            "\n",
            "    airplane       0.63      0.33      0.44      1000\n",
            "  automobile       0.34      0.78      0.47      1000\n",
            "        bird       0.36      0.14      0.21      1000\n",
            "         cat       0.32      0.16      0.21      1000\n",
            "        deer       0.30      0.49      0.37      1000\n",
            "         dog       0.38      0.36      0.37      1000\n",
            "        frog       0.45      0.47      0.46      1000\n",
            "       horse       0.51      0.35      0.42      1000\n",
            "        ship       0.46      0.61      0.52      1000\n",
            "       truck       0.45      0.29      0.35      1000\n",
            "\n",
            "    accuracy                           0.40     10000\n",
            "   macro avg       0.42      0.40      0.38     10000\n",
            "weighted avg       0.42      0.40      0.38     10000\n",
            "\n",
            "test loss = 1.6766351461410522\n"
          ]
        }
      ]
    },
    {
      "cell_type": "code",
      "source": [
        "# Subset size: 2400\n",
        "evaluate_subset_size(\n",
        "  dataset_train,\n",
        "  dataset_test,\n",
        "  SimpleCNN,\n",
        "  subset_size=2400,\n",
        "  random_state=random_state,\n",
        "  target_names=target_names,\n",
        ")\n"
      ],
      "metadata": {
        "colab": {
          "base_uri": "https://localhost:8080/"
        },
        "id": "4dSjuI56WaQe",
        "outputId": "1ceabada-bce3-4f35-dd16-4ecdf1b3e73c"
      },
      "execution_count": null,
      "outputs": [
        {
          "output_type": "stream",
          "name": "stdout",
          "text": [
            "Epoch 1/10, Loss: 2.160722034672896\n",
            "Epoch 2/10, Loss: 1.8905263418952625\n",
            "Epoch 3/10, Loss: 1.7529161646962166\n",
            "Epoch 4/10, Loss: 1.6461766511201859\n",
            "Epoch 5/10, Loss: 1.5636423428853352\n",
            "Epoch 6/10, Loss: 1.478153757750988\n",
            "Epoch 7/10, Loss: 1.4234377294778824\n",
            "Epoch 8/10, Loss: 1.3802245905001957\n",
            "Epoch 9/10, Loss: 1.3284379616379738\n",
            "Epoch 10/10, Loss: 1.2715379695097606\n",
            "\n",
            "Epoch 1/10, Loss: 2.1589148392279944\n",
            "Epoch 2/10, Loss: 1.8853613312045734\n",
            "Epoch 3/10, Loss: 1.747187706331412\n",
            "Epoch 4/10, Loss: 1.6396285966038704\n",
            "Epoch 5/10, Loss: 1.5527827988068263\n",
            "Epoch 6/10, Loss: 1.4695507536331813\n",
            "Epoch 7/10, Loss: 1.404315394659837\n",
            "Epoch 8/10, Loss: 1.3612124174833298\n",
            "Epoch 9/10, Loss: 1.2895467355847359\n",
            "Epoch 10/10, Loss: 1.2641845345497131\n",
            "\n",
            "              precision    recall  f1-score   support\n",
            "\n",
            "    airplane       0.62      0.46      0.53      1000\n",
            "  automobile       0.46      0.76      0.57      1000\n",
            "        bird       0.32      0.42      0.37      1000\n",
            "         cat       0.39      0.10      0.16      1000\n",
            "        deer       0.51      0.30      0.38      1000\n",
            "         dog       0.45      0.36      0.40      1000\n",
            "        frog       0.46      0.64      0.53      1000\n",
            "       horse       0.48      0.61      0.54      1000\n",
            "        ship       0.51      0.68      0.58      1000\n",
            "       truck       0.56      0.34      0.42      1000\n",
            "\n",
            "    accuracy                           0.47     10000\n",
            "   macro avg       0.48      0.47      0.45     10000\n",
            "weighted avg       0.48      0.47      0.45     10000\n",
            "\n",
            "test loss = 1.49314284324646\n"
          ]
        }
      ]
    },
    {
      "cell_type": "code",
      "source": [
        "# Subset size: 4800\n",
        "evaluate_subset_size(\n",
        "  dataset_train,\n",
        "  dataset_test,\n",
        "  SimpleCNN,\n",
        "  subset_size=4800,\n",
        "  random_state=random_state,\n",
        "  target_names=target_names,\n",
        ")\n"
      ],
      "metadata": {
        "colab": {
          "base_uri": "https://localhost:8080/"
        },
        "id": "eBI5xd7LWeGi",
        "outputId": "7b95ddb7-9e45-4f75-a50c-c0aea61ba1a8"
      },
      "execution_count": null,
      "outputs": [
        {
          "output_type": "stream",
          "name": "stdout",
          "text": [
            "Epoch 1/10, Loss: 2.0514990389347076\n",
            "Epoch 2/10, Loss: 1.7418601860602696\n",
            "Epoch 3/10, Loss: 1.6064197445909183\n",
            "Epoch 4/10, Loss: 1.5091173065205414\n",
            "Epoch 5/10, Loss: 1.4326312926908333\n",
            "Epoch 6/10, Loss: 1.3713121190667152\n",
            "Epoch 7/10, Loss: 1.3099435611317556\n",
            "Epoch 8/10, Loss: 1.2604158998777468\n",
            "Epoch 9/10, Loss: 1.2185252190877993\n",
            "Epoch 10/10, Loss: 1.176115450138847\n",
            "\n",
            "Epoch 1/10, Loss: 2.043006233870983\n",
            "Epoch 2/10, Loss: 1.7506167404353619\n",
            "Epoch 3/10, Loss: 1.6235065770645936\n",
            "Epoch 4/10, Loss: 1.5230095970133941\n",
            "Epoch 5/10, Loss: 1.4431847284237544\n",
            "Epoch 6/10, Loss: 1.3776390440762043\n",
            "Epoch 7/10, Loss: 1.317013497153918\n",
            "Epoch 8/10, Loss: 1.2692939701179664\n",
            "Epoch 9/10, Loss: 1.226432188724478\n",
            "Epoch 10/10, Loss: 1.1719137895852327\n",
            "\n",
            "              precision    recall  f1-score   support\n",
            "\n",
            "    airplane       0.52      0.65      0.58      1000\n",
            "  automobile       0.64      0.64      0.64      1000\n",
            "        bird       0.39      0.41      0.40      1000\n",
            "         cat       0.41      0.24      0.30      1000\n",
            "        deer       0.36      0.59      0.45      1000\n",
            "         dog       0.52      0.34      0.41      1000\n",
            "        frog       0.59      0.56      0.58      1000\n",
            "       horse       0.60      0.58      0.59      1000\n",
            "        ship       0.59      0.65      0.62      1000\n",
            "       truck       0.62      0.51      0.56      1000\n",
            "\n",
            "    accuracy                           0.52     10000\n",
            "   macro avg       0.52      0.52      0.51     10000\n",
            "weighted avg       0.52      0.52      0.51     10000\n",
            "\n",
            "test loss = 1.3663643598556519\n"
          ]
        }
      ]
    },
    {
      "cell_type": "code",
      "source": [
        "# Subset size: 9600\n",
        "evaluate_subset_size(\n",
        "  dataset_train,\n",
        "  dataset_test,\n",
        "  SimpleCNN,\n",
        "  subset_size=9600,\n",
        "  random_state=random_state,\n",
        "  target_names=target_names,\n",
        ")\n"
      ],
      "metadata": {
        "colab": {
          "base_uri": "https://localhost:8080/"
        },
        "id": "iB1I2U0RWmYm",
        "outputId": "270594df-6e39-472b-8042-60d2ba599cff"
      },
      "execution_count": null,
      "outputs": [
        {
          "output_type": "stream",
          "name": "stdout",
          "text": [
            "Epoch 1/10, Loss: 1.9340408239513636\n",
            "Epoch 2/10, Loss: 1.6021019003043573\n",
            "Epoch 3/10, Loss: 1.4707127753645182\n",
            "Epoch 4/10, Loss: 1.3836818511287372\n",
            "Epoch 5/10, Loss: 1.3255397975444794\n",
            "Epoch 6/10, Loss: 1.2604104336351156\n",
            "Epoch 7/10, Loss: 1.2169337114319205\n",
            "Epoch 8/10, Loss: 1.1670714548478525\n",
            "Epoch 9/10, Loss: 1.1206290638074279\n",
            "Epoch 10/10, Loss: 1.0837577944621444\n",
            "\n",
            "Epoch 1/10, Loss: 1.9122319320837657\n",
            "Epoch 2/10, Loss: 1.5877839637299378\n",
            "Epoch 3/10, Loss: 1.4599641760190327\n",
            "Epoch 4/10, Loss: 1.3628605616589387\n",
            "Epoch 5/10, Loss: 1.299198083889981\n",
            "Epoch 6/10, Loss: 1.2380698326354225\n",
            "Epoch 7/10, Loss: 1.1848011485611398\n",
            "Epoch 8/10, Loss: 1.1482244307796161\n",
            "Epoch 9/10, Loss: 1.103395421989262\n",
            "Epoch 10/10, Loss: 1.0635811525086563\n",
            "\n",
            "              precision    recall  f1-score   support\n",
            "\n",
            "    airplane       0.70      0.53      0.61      1000\n",
            "  automobile       0.66      0.72      0.69      1000\n",
            "        bird       0.50      0.32      0.39      1000\n",
            "         cat       0.43      0.29      0.35      1000\n",
            "        deer       0.49      0.43      0.46      1000\n",
            "         dog       0.53      0.47      0.50      1000\n",
            "        frog       0.49      0.76      0.60      1000\n",
            "       horse       0.58      0.69      0.63      1000\n",
            "        ship       0.60      0.75      0.67      1000\n",
            "       truck       0.58      0.64      0.61      1000\n",
            "\n",
            "    accuracy                           0.56     10000\n",
            "   macro avg       0.56      0.56      0.55     10000\n",
            "weighted avg       0.56      0.56      0.55     10000\n",
            "\n",
            "test loss = 1.2352120876312256\n"
          ]
        }
      ]
    },
    {
      "cell_type": "code",
      "source": [
        "# Subset size: 19200\n",
        "evaluate_subset_size(\n",
        "  dataset_train,\n",
        "  dataset_test,\n",
        "  SimpleCNN,\n",
        "  subset_size=19200,\n",
        "  random_state=random_state,\n",
        "  target_names=target_names,\n",
        ")"
      ],
      "metadata": {
        "colab": {
          "base_uri": "https://localhost:8080/"
        },
        "id": "2tPmqXoVXWD3",
        "outputId": "c2579438-12b3-4fdd-de16-4edde71eb2a9"
      },
      "execution_count": null,
      "outputs": [
        {
          "output_type": "stream",
          "name": "stdout",
          "text": [
            "Epoch 1/10, Loss: 1.7459366113568346\n",
            "Epoch 2/10, Loss: 1.4363142453754942\n",
            "Epoch 3/10, Loss: 1.3133919006213546\n",
            "Epoch 4/10, Loss: 1.2221329243232806\n",
            "Epoch 5/10, Loss: 1.1604999668585758\n",
            "Epoch 6/10, Loss: 1.0993118326490123\n",
            "Epoch 7/10, Loss: 1.0485400989030798\n",
            "Epoch 8/10, Loss: 1.0020667305216193\n",
            "Epoch 9/10, Loss: 0.9654473218445977\n",
            "Epoch 10/10, Loss: 0.9275869346844653\n",
            "\n",
            "Epoch 1/10, Loss: 1.7510980650161703\n",
            "Epoch 2/10, Loss: 1.4339016117155552\n",
            "Epoch 3/10, Loss: 1.3069589499694605\n",
            "Epoch 4/10, Loss: 1.2174223546559613\n",
            "Epoch 5/10, Loss: 1.145253004040569\n",
            "Epoch 6/10, Loss: 1.0875080567784607\n",
            "Epoch 7/10, Loss: 1.0366560622739296\n",
            "Epoch 8/10, Loss: 0.9900819258764386\n",
            "Epoch 9/10, Loss: 0.9484567805193365\n",
            "Epoch 10/10, Loss: 0.9095035861246288\n",
            "\n",
            "              precision    recall  f1-score   support\n",
            "\n",
            "    airplane       0.66      0.71      0.69      1000\n",
            "  automobile       0.71      0.81      0.76      1000\n",
            "        bird       0.52      0.48      0.50      1000\n",
            "         cat       0.55      0.31      0.39      1000\n",
            "        deer       0.54      0.58      0.56      1000\n",
            "         dog       0.56      0.56      0.56      1000\n",
            "        frog       0.63      0.80      0.70      1000\n",
            "       horse       0.76      0.65      0.70      1000\n",
            "        ship       0.75      0.73      0.74      1000\n",
            "       truck       0.65      0.72      0.68      1000\n",
            "\n",
            "    accuracy                           0.63     10000\n",
            "   macro avg       0.63      0.63      0.63     10000\n",
            "weighted avg       0.63      0.63      0.63     10000\n",
            "\n",
            "test loss = 1.051347017288208\n"
          ]
        }
      ]
    },
    {
      "cell_type": "code",
      "source": [],
      "metadata": {
        "id": "3oGQUCWVZMad"
      },
      "execution_count": null,
      "outputs": []
    }
  ]
}